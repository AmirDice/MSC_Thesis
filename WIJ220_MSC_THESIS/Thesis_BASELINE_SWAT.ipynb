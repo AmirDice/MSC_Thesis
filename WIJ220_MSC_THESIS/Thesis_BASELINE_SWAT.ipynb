{
  "nbformat": 4,
  "nbformat_minor": 0,
  "metadata": {
    "colab": {
      "provenance": [],
      "collapsed_sections": [
        "K8vyJMwkkNgB"
      ],
      "machine_shape": "hm",
      "gpuType": "T4"
    },
    "kernelspec": {
      "name": "python3",
      "display_name": "Python 3"
    },
    "language_info": {
      "name": "python"
    },
    "accelerator": "GPU"
  },
  "cells": [
    {
      "cell_type": "markdown",
      "source": [
        "# **Anomaly Detection and Data Labeling"
      ],
      "metadata": {
        "id": "x50362y2xnKR"
      }
    },
    {
      "cell_type": "markdown",
      "source": [
        "# **IMPORT THE REQUIRES LIBRARIES**"
      ],
      "metadata": {
        "id": "AJl5aajUj6id"
      }
    },
    {
      "cell_type": "code",
      "source": [
        "!pip install modAL\n",
        "!pip install activelearner"
      ],
      "metadata": {
        "colab": {
          "base_uri": "https://localhost:8080/"
        },
        "id": "iw5qUOU2WwE2",
        "outputId": "e627d72a-5ff1-492a-91c4-a0cf8f74de1c"
      },
      "execution_count": null,
      "outputs": [
        {
          "output_type": "stream",
          "name": "stdout",
          "text": [
            "Collecting modAL\n",
            "  Downloading modal-0.56.4368-py3-none-any.whl (341 kB)\n",
            "\u001b[2K     \u001b[90m━━━━━━━━━━━━━━━━━━━━━━━━━━━━━━━━━━━━━━━━\u001b[0m \u001b[32m341.9/341.9 kB\u001b[0m \u001b[31m4.7 MB/s\u001b[0m eta \u001b[36m0:00:00\u001b[0m\n",
            "\u001b[?25hRequirement already satisfied: aiohttp in /usr/local/lib/python3.10/dist-packages (from modAL) (3.9.1)\n",
            "Collecting aiostream (from modAL)\n",
            "  Downloading aiostream-0.5.2-py3-none-any.whl (39 kB)\n",
            "Collecting asgiref (from modAL)\n",
            "  Downloading asgiref-3.7.2-py3-none-any.whl (24 kB)\n",
            "Requirement already satisfied: certifi in /usr/local/lib/python3.10/dist-packages (from modAL) (2023.11.17)\n",
            "Requirement already satisfied: click>=8.1.0 in /usr/local/lib/python3.10/dist-packages (from modAL) (8.1.7)\n",
            "Collecting fastapi (from modAL)\n",
            "  Downloading fastapi-0.105.0-py3-none-any.whl (93 kB)\n",
            "\u001b[2K     \u001b[90m━━━━━━━━━━━━━━━━━━━━━━━━━━━━━━━━━━━━━━━━\u001b[0m \u001b[32m93.1/93.1 kB\u001b[0m \u001b[31m7.9 MB/s\u001b[0m eta \u001b[36m0:00:00\u001b[0m\n",
            "\u001b[?25hCollecting grpclib==0.4.3 (from modAL)\n",
            "  Downloading grpclib-0.4.3.tar.gz (62 kB)\n",
            "\u001b[2K     \u001b[90m━━━━━━━━━━━━━━━━━━━━━━━━━━━━━━━━━━━━━━━━\u001b[0m \u001b[32m62.1/62.1 kB\u001b[0m \u001b[31m6.8 MB/s\u001b[0m eta \u001b[36m0:00:00\u001b[0m\n",
            "\u001b[?25h  Installing build dependencies ... \u001b[?25l\u001b[?25hdone\n",
            "  Getting requirements to build wheel ... \u001b[?25l\u001b[?25hdone\n",
            "  Preparing metadata (pyproject.toml) ... \u001b[?25l\u001b[?25hdone\n",
            "Requirement already satisfied: importlib-metadata>=3.6.0 in /usr/local/lib/python3.10/dist-packages (from modAL) (7.0.0)\n",
            "Requirement already satisfied: protobuf!=4.24.0,<5.0,>=3.19 in /usr/local/lib/python3.10/dist-packages (from modAL) (3.20.3)\n",
            "Requirement already satisfied: rich>=12.0.0 in /usr/local/lib/python3.10/dist-packages (from modAL) (13.7.0)\n",
            "Collecting synchronicity~=0.5.3 (from modAL)\n",
            "  Downloading synchronicity-0.5.3-py3-none-any.whl (23 kB)\n",
            "Requirement already satisfied: tblib>=1.7.0 in /usr/local/lib/python3.10/dist-packages (from modAL) (3.0.0)\n",
            "Requirement already satisfied: toml in /usr/local/lib/python3.10/dist-packages (from modAL) (0.10.2)\n",
            "Requirement already satisfied: typer~=0.9.0 in /usr/local/lib/python3.10/dist-packages (from modAL) (0.9.0)\n",
            "Collecting types-certifi (from modAL)\n",
            "  Downloading types_certifi-2021.10.8.3-py3-none-any.whl (2.1 kB)\n",
            "Collecting types-toml (from modAL)\n",
            "  Downloading types_toml-0.10.8.7-py3-none-any.whl (4.6 kB)\n",
            "Collecting watchfiles (from modAL)\n",
            "  Downloading watchfiles-0.21.0-cp310-cp310-manylinux_2_17_x86_64.manylinux2014_x86_64.whl (1.3 MB)\n",
            "\u001b[2K     \u001b[90m━━━━━━━━━━━━━━━━━━━━━━━━━━━━━━━━━━━━━━━━\u001b[0m \u001b[32m1.3/1.3 MB\u001b[0m \u001b[31m10.6 MB/s\u001b[0m eta \u001b[36m0:00:00\u001b[0m\n",
            "\u001b[?25hCollecting typing-extensions~=4.6 (from modAL)\n",
            "  Downloading typing_extensions-4.9.0-py3-none-any.whl (32 kB)\n",
            "Collecting cloudpickle<2.1.0,>=2.0.0 (from modAL)\n",
            "  Downloading cloudpickle-2.0.0-py3-none-any.whl (25 kB)\n",
            "Collecting h2<5,>=3.1.0 (from grpclib==0.4.3->modAL)\n",
            "  Downloading h2-4.1.0-py3-none-any.whl (57 kB)\n",
            "\u001b[2K     \u001b[90m━━━━━━━━━━━━━━━━━━━━━━━━━━━━━━━━━━━━━━━━\u001b[0m \u001b[32m57.5/57.5 kB\u001b[0m \u001b[31m6.9 MB/s\u001b[0m eta \u001b[36m0:00:00\u001b[0m\n",
            "\u001b[?25hRequirement already satisfied: multidict in /usr/local/lib/python3.10/dist-packages (from grpclib==0.4.3->modAL) (6.0.4)\n",
            "Requirement already satisfied: zipp>=0.5 in /usr/local/lib/python3.10/dist-packages (from importlib-metadata>=3.6.0->modAL) (3.17.0)\n",
            "Requirement already satisfied: markdown-it-py>=2.2.0 in /usr/local/lib/python3.10/dist-packages (from rich>=12.0.0->modAL) (3.0.0)\n",
            "Requirement already satisfied: pygments<3.0.0,>=2.13.0 in /usr/local/lib/python3.10/dist-packages (from rich>=12.0.0->modAL) (2.16.1)\n",
            "Collecting sigtools==4.0.1 (from synchronicity~=0.5.3->modAL)\n",
            "  Downloading sigtools-4.0.1-py2.py3-none-any.whl (76 kB)\n",
            "\u001b[2K     \u001b[90m━━━━━━━━━━━━━━━━━━━━━━━━━━━━━━━━━━━━━━━━\u001b[0m \u001b[32m76.4/76.4 kB\u001b[0m \u001b[31m9.5 MB/s\u001b[0m eta \u001b[36m0:00:00\u001b[0m\n",
            "\u001b[?25hRequirement already satisfied: attrs in /usr/local/lib/python3.10/dist-packages (from sigtools==4.0.1->synchronicity~=0.5.3->modAL) (23.1.0)\n",
            "Requirement already satisfied: yarl<2.0,>=1.0 in /usr/local/lib/python3.10/dist-packages (from aiohttp->modAL) (1.9.4)\n",
            "Requirement already satisfied: frozenlist>=1.1.1 in /usr/local/lib/python3.10/dist-packages (from aiohttp->modAL) (1.4.1)\n",
            "Requirement already satisfied: aiosignal>=1.1.2 in /usr/local/lib/python3.10/dist-packages (from aiohttp->modAL) (1.3.1)\n",
            "Requirement already satisfied: async-timeout<5.0,>=4.0 in /usr/local/lib/python3.10/dist-packages (from aiohttp->modAL) (4.0.3)\n",
            "Requirement already satisfied: anyio<4.0.0,>=3.7.1 in /usr/local/lib/python3.10/dist-packages (from fastapi->modAL) (3.7.1)\n",
            "Requirement already satisfied: pydantic!=1.8,!=1.8.1,!=2.0.0,!=2.0.1,!=2.1.0,<3.0.0,>=1.7.4 in /usr/local/lib/python3.10/dist-packages (from fastapi->modAL) (1.10.13)\n",
            "Collecting starlette<0.28.0,>=0.27.0 (from fastapi->modAL)\n",
            "  Downloading starlette-0.27.0-py3-none-any.whl (66 kB)\n",
            "\u001b[2K     \u001b[90m━━━━━━━━━━━━━━━━━━━━━━━━━━━━━━━━━━━━━━━━\u001b[0m \u001b[32m67.0/67.0 kB\u001b[0m \u001b[31m9.3 MB/s\u001b[0m eta \u001b[36m0:00:00\u001b[0m\n",
            "\u001b[?25hRequirement already satisfied: idna>=2.8 in /usr/local/lib/python3.10/dist-packages (from anyio<4.0.0,>=3.7.1->fastapi->modAL) (3.6)\n",
            "Requirement already satisfied: sniffio>=1.1 in /usr/local/lib/python3.10/dist-packages (from anyio<4.0.0,>=3.7.1->fastapi->modAL) (1.3.0)\n",
            "Requirement already satisfied: exceptiongroup in /usr/local/lib/python3.10/dist-packages (from anyio<4.0.0,>=3.7.1->fastapi->modAL) (1.2.0)\n",
            "Collecting hyperframe<7,>=6.0 (from h2<5,>=3.1.0->grpclib==0.4.3->modAL)\n",
            "  Downloading hyperframe-6.0.1-py3-none-any.whl (12 kB)\n",
            "Collecting hpack<5,>=4.0 (from h2<5,>=3.1.0->grpclib==0.4.3->modAL)\n",
            "  Downloading hpack-4.0.0-py3-none-any.whl (32 kB)\n",
            "Requirement already satisfied: mdurl~=0.1 in /usr/local/lib/python3.10/dist-packages (from markdown-it-py>=2.2.0->rich>=12.0.0->modAL) (0.1.2)\n",
            "Building wheels for collected packages: grpclib\n",
            "  Building wheel for grpclib (pyproject.toml) ... \u001b[?25l\u001b[?25hdone\n",
            "  Created wheel for grpclib: filename=grpclib-0.4.3-py3-none-any.whl size=77059 sha256=1958fb0e87a439858a2e73e297a877b053a1d7a37cbb9a9d46cb3a3ca58117b5\n",
            "  Stored in directory: /root/.cache/pip/wheels/e0/49/4d/31aa7f3f43e9833b8e79204457b404ad4434fc2278a32fa9f1\n",
            "Successfully built grpclib\n",
            "Installing collected packages: types-toml, types-certifi, typing-extensions, sigtools, hyperframe, hpack, cloudpickle, watchfiles, synchronicity, starlette, h2, asgiref, aiostream, grpclib, fastapi, modAL\n",
            "  Attempting uninstall: typing-extensions\n",
            "    Found existing installation: typing_extensions 4.5.0\n",
            "    Uninstalling typing_extensions-4.5.0:\n",
            "      Successfully uninstalled typing_extensions-4.5.0\n",
            "  Attempting uninstall: cloudpickle\n",
            "    Found existing installation: cloudpickle 2.2.1\n",
            "    Uninstalling cloudpickle-2.2.1:\n",
            "      Successfully uninstalled cloudpickle-2.2.1\n",
            "\u001b[31mERROR: pip's dependency resolver does not currently take into account all the packages that are installed. This behaviour is the source of the following dependency conflicts.\n",
            "lida 0.0.10 requires kaleido, which is not installed.\n",
            "lida 0.0.10 requires python-multipart, which is not installed.\n",
            "lida 0.0.10 requires uvicorn, which is not installed.\n",
            "tensorflow-probability 0.22.0 requires typing-extensions<4.6.0, but you have typing-extensions 4.9.0 which is incompatible.\u001b[0m\u001b[31m\n",
            "\u001b[0mSuccessfully installed aiostream-0.5.2 asgiref-3.7.2 cloudpickle-2.0.0 fastapi-0.105.0 grpclib-0.4.3 h2-4.1.0 hpack-4.0.0 hyperframe-6.0.1 modAL-0.56.4368 sigtools-4.0.1 starlette-0.27.0 synchronicity-0.5.3 types-certifi-2021.10.8.3 types-toml-0.10.8.7 typing-extensions-4.9.0 watchfiles-0.21.0\n",
            "Collecting activelearner\n",
            "  Downloading activelearner-0.1.0-py3-none-any.whl (3.6 kB)\n",
            "Installing collected packages: activelearner\n",
            "Successfully installed activelearner-0.1.0\n"
          ]
        }
      ]
    },
    {
      "cell_type": "code",
      "source": [
        "!pip3 install modAL-python"
      ],
      "metadata": {
        "id": "S5WaXqDOXspg",
        "colab": {
          "base_uri": "https://localhost:8080/"
        },
        "outputId": "41fad73a-a5c8-49a2-8459-108bf5218955"
      },
      "execution_count": null,
      "outputs": [
        {
          "output_type": "stream",
          "name": "stdout",
          "text": [
            "Collecting modAL-python\n",
            "  Downloading modAL_python-0.4.2.1-py3-none-any.whl (32 kB)\n",
            "Requirement already satisfied: numpy in /usr/local/lib/python3.10/dist-packages (from modAL-python) (1.23.5)\n",
            "Requirement already satisfied: scikit-learn>=0.18 in /usr/local/lib/python3.10/dist-packages (from modAL-python) (1.2.2)\n",
            "Requirement already satisfied: scipy>=0.18 in /usr/local/lib/python3.10/dist-packages (from modAL-python) (1.11.4)\n",
            "Requirement already satisfied: pandas>=1.1.0 in /usr/local/lib/python3.10/dist-packages (from modAL-python) (1.5.3)\n",
            "Collecting skorch==0.9.0 (from modAL-python)\n",
            "  Downloading skorch-0.9.0-py3-none-any.whl (125 kB)\n",
            "\u001b[2K     \u001b[90m━━━━━━━━━━━━━━━━━━━━━━━━━━━━━━━━━━━━━━━━\u001b[0m \u001b[32m125.8/125.8 kB\u001b[0m \u001b[31m4.6 MB/s\u001b[0m eta \u001b[36m0:00:00\u001b[0m\n",
            "\u001b[?25hRequirement already satisfied: tabulate>=0.7.7 in /usr/local/lib/python3.10/dist-packages (from skorch==0.9.0->modAL-python) (0.9.0)\n",
            "Requirement already satisfied: tqdm>=4.14.0 in /usr/local/lib/python3.10/dist-packages (from skorch==0.9.0->modAL-python) (4.66.1)\n",
            "Requirement already satisfied: python-dateutil>=2.8.1 in /usr/local/lib/python3.10/dist-packages (from pandas>=1.1.0->modAL-python) (2.8.2)\n",
            "Requirement already satisfied: pytz>=2020.1 in /usr/local/lib/python3.10/dist-packages (from pandas>=1.1.0->modAL-python) (2023.3.post1)\n",
            "Requirement already satisfied: joblib>=1.1.1 in /usr/local/lib/python3.10/dist-packages (from scikit-learn>=0.18->modAL-python) (1.3.2)\n",
            "Requirement already satisfied: threadpoolctl>=2.0.0 in /usr/local/lib/python3.10/dist-packages (from scikit-learn>=0.18->modAL-python) (3.2.0)\n",
            "Requirement already satisfied: six>=1.5 in /usr/local/lib/python3.10/dist-packages (from python-dateutil>=2.8.1->pandas>=1.1.0->modAL-python) (1.16.0)\n",
            "Installing collected packages: skorch, modAL-python\n",
            "Successfully installed modAL-python-0.4.2.1 skorch-0.9.0\n"
          ]
        }
      ]
    },
    {
      "cell_type": "code",
      "execution_count": null,
      "metadata": {
        "id": "27DO7S9qUF-i"
      },
      "outputs": [],
      "source": [
        "import time\n",
        "import matplotlib.pyplot as plt\n",
        "import seaborn as sns\n",
        "import pandas as pd\n",
        "import pandas as pd\n",
        "import numpy as np\n",
        "import tensorflow as tf\n",
        "from sklearn.preprocessing import StandardScaler\n",
        "from sklearn.model_selection import train_test_split\n",
        "from sklearn.metrics import classification_report, confusion_matrix\n",
        "from sklearn.metrics import accuracy_score, f1_score, silhouette_score\n",
        "from sklearn.cluster import KMeans\n",
        "from sklearn.neighbors import LocalOutlierFactor\n",
        "from sklearn.preprocessing import OneHotEncoder, LabelEncoder\n",
        "from sklearn.ensemble import IsolationForest\n",
        "from sklearn.metrics import accuracy_score, f1_score\n",
        "from sklearn.ensemble import RandomForestClassifier\n",
        "from modAL.models import ActiveLearner\n",
        "from sklearn.metrics import accuracy_score\n",
        "from sklearn.metrics import precision_score, recall_score, roc_auc_score\n",
        "from sklearn.metrics import confusion_matrix, ConfusionMatrixDisplay\n"
      ]
    },
    {
      "cell_type": "markdown",
      "source": [
        "Load Dataset"
      ],
      "metadata": {
        "id": "tYwsI1LlkI17"
      }
    },
    {
      "cell_type": "code",
      "source": [
        "# Load the XLSX file into a pandas DataFrame\n",
        "df = pd.read_excel('/content/drive/MyDrive/SWaT_dataset_Jul19v2_clean.xlsx')\n",
        "\n",
        "# Print the first 5 rows of the DataFrame\n",
        "print(df.head())"
      ],
      "metadata": {
        "colab": {
          "base_uri": "https://localhost:8080/"
        },
        "id": "6GviMy8vjynr",
        "outputId": "39f9531d-17ce-49cf-e406-1a314a544ff5"
      },
      "execution_count": null,
      "outputs": [
        {
          "output_type": "stream",
          "name": "stdout",
          "text": [
            "               Timestamp   FIT 101     LIT 101  MV 101  P1_STATE  P101 Status  \\\n",
            "0  20/07/2019 4:39:59 PM  4.323736  492.896881       2         2            2   \n",
            "1  20/07/2019 4:39:58 PM  4.323736  492.465100       2         2            2   \n",
            "2  20/07/2019 4:39:57 PM  4.303558  492.308100       2         2            2   \n",
            "3  20/07/2019 4:39:56 PM  4.253915  491.405273       2         2            2   \n",
            "4  20/07/2019 4:39:55 PM  4.200429  491.169769       2         2            2   \n",
            "\n",
            "   P102 Status     AIT 201   AIT 202     AIT 203  ...  LSH 601 LSH 602  \\\n",
            "0            1  131.408615  9.313829  257.933868  ...   Active  Active   \n",
            "1            1  131.408615  9.316713  257.703156  ...   Active  Active   \n",
            "2            1  131.408615  9.317354  257.703156  ...   Active  Active   \n",
            "3            1  131.408615  9.317354  257.703156  ...   Active  Active   \n",
            "4            1  131.408615  9.319918  257.703156  ...   Active  Active   \n",
            "\n",
            "    LSH 603   LSL 601   LSL 602  LSL 603  P6 STATE  P601 Status  P602 Status  \\\n",
            "0  Inactive  Inactive  Inactive   Active         2            1            1   \n",
            "1  Inactive  Inactive  Inactive   Active         2            1            1   \n",
            "2  Inactive  Inactive  Inactive   Active         2            1            1   \n",
            "3  Inactive  Inactive  Inactive   Active         2            1            1   \n",
            "4  Inactive  Inactive  Inactive   Active         2            1            1   \n",
            "\n",
            "   P603 Status  \n",
            "0            1  \n",
            "1            1  \n",
            "2            1  \n",
            "3            1  \n",
            "4            1  \n",
            "\n",
            "[5 rows x 78 columns]\n"
          ]
        }
      ]
    },
    {
      "cell_type": "code",
      "source": [
        "from google.colab import drive\n",
        "drive.mount('/content/drive')"
      ],
      "metadata": {
        "colab": {
          "base_uri": "https://localhost:8080/"
        },
        "id": "FesnJI1WBakB",
        "outputId": "a4e28732-559f-42dd-e199-526945f1727c"
      },
      "execution_count": null,
      "outputs": [
        {
          "output_type": "stream",
          "name": "stdout",
          "text": [
            "Mounted at /content/drive\n"
          ]
        }
      ]
    },
    {
      "cell_type": "markdown",
      "source": [
        "# **DATA EXPLORATION**"
      ],
      "metadata": {
        "id": "K8vyJMwkkNgB"
      }
    },
    {
      "cell_type": "code",
      "source": [
        "# Print the shape of the DataFrame (number of rows and columns)\n",
        "print(df.shape)\n",
        "\n",
        "# Print the column names of the DataFrame\n",
        "print(df.columns)"
      ],
      "metadata": {
        "colab": {
          "base_uri": "https://localhost:8080/"
        },
        "id": "jGfa2KgFciZV",
        "outputId": "f8492186-b135-498b-a9b0-45eb1939d0c5"
      },
      "execution_count": null,
      "outputs": [
        {
          "output_type": "stream",
          "name": "stdout",
          "text": [
            "(14996, 78)\n",
            "Index(['Timestamp', 'FIT 101', 'LIT 101', 'MV 101', 'P1_STATE', 'P101 Status',\n",
            "       'P102 Status', 'AIT 201', 'AIT 202', 'AIT 203', 'FIT 201', 'LS 201',\n",
            "       'LS 202', 'LSL 203', 'LSLL 203', 'MV201', 'P2_STATE', 'P201 Status',\n",
            "       'P202 Status', 'P203 Status', 'P204 Status', 'P205 Status',\n",
            "       'P206 Status', 'P207 Status', 'P208 Status', 'AIT 301', 'AIT 302',\n",
            "       'AIT 303', 'DPIT 301', 'FIT 301', 'LIT 301', 'MV 301', 'MV 302',\n",
            "       'MV 303', 'MV 304', 'P3_STATE', 'P301 Status', 'P302 Status', 'AIT 401',\n",
            "       'AIT 402', 'FIT 401', 'LIT 401', 'LS 401', 'P4_STATE', 'P401 Status',\n",
            "       'P402 Status', 'P403 Status', 'P404 Status', 'UV401', 'AIT 501',\n",
            "       'AIT 502', 'AIT 503', 'AIT 504', 'FIT 501', 'FIT 502', 'FIT 503',\n",
            "       'FIT 504', 'MV 501', 'MV 502', 'MV 503', 'MV 504', 'P5_STATE',\n",
            "       'P501 Status', 'P502 Status', 'PIT 501', 'PIT 502', 'PIT 503',\n",
            "       'FIT 601', 'LSH 601', 'LSH 602', 'LSH 603', 'LSL 601', 'LSL 602',\n",
            "       'LSL 603', 'P6 STATE', 'P601 Status', 'P602 Status', 'P603 Status'],\n",
            "      dtype='object')\n"
          ]
        }
      ]
    },
    {
      "cell_type": "code",
      "source": [
        "# Print summary statistics of numerical columns\n",
        "print(df.describe())"
      ],
      "metadata": {
        "id": "zHrjDHWfcmTv",
        "colab": {
          "base_uri": "https://localhost:8080/"
        },
        "outputId": "d50abef5-029c-4967-c42c-255cc9f94bb1"
      },
      "execution_count": null,
      "outputs": [
        {
          "output_type": "stream",
          "name": "stdout",
          "text": [
            "            FIT 101       LIT 101        MV 101      P1_STATE   P101 Status  \\\n",
            "count  14996.000000  14996.000000  14996.000000  14996.000000  14996.000000   \n",
            "mean       0.740876    733.960251      1.156175      2.061616      1.374166   \n",
            "std        1.634632    110.960185      0.384272      0.240466      0.483923   \n",
            "min        0.000000    491.169769      0.000000      2.000000      1.000000   \n",
            "25%        0.000000    640.595184      1.000000      2.000000      1.000000   \n",
            "50%        0.000000    819.636841      1.000000      2.000000      1.000000   \n",
            "75%        0.000000    820.971436      1.000000      2.000000      2.000000   \n",
            "max        4.403484    825.092957      2.000000      3.000000      2.000000   \n",
            "\n",
            "       P102 Status       AIT 201       AIT 202       AIT 203       FIT 201  \\\n",
            "count      14996.0  14996.000000  14996.000000  14996.000000  14996.000000   \n",
            "mean           1.0    138.766501      9.210022    247.985162      0.869760   \n",
            "std            0.0      8.265845      0.175812     11.806186      1.121283   \n",
            "min            1.0    113.849014      8.768457    198.077423      0.000000   \n",
            "25%            1.0    131.536789      9.090170    239.887200      0.000384   \n",
            "50%            1.0    143.713150      9.233082    246.218918      0.000513   \n",
            "75%            1.0    144.033585      9.345873    257.190460      2.320187   \n",
            "max            1.0    146.821335      9.490067    272.289154      2.342357   \n",
            "\n",
            "       ...  P501 Status  P502 Status       PIT 501       PIT 502  \\\n",
            "count  ...      14996.0      14996.0  14996.000000  14996.000000   \n",
            "mean   ...          2.0          1.0    160.706744      4.673115   \n",
            "std    ...          0.0          0.0      5.707502     18.183883   \n",
            "min    ...          2.0          1.0    158.132523      2.450902   \n",
            "25%    ...          2.0          1.0    159.526400      2.851376   \n",
            "50%    ...          2.0          1.0    160.231354      2.883414   \n",
            "75%    ...          2.0          1.0    160.695969      2.963509   \n",
            "max    ...          2.0          1.0    219.014359    192.371765   \n",
            "\n",
            "            PIT 503       FIT 601  P6 STATE   P601 Status  P602 Status  \\\n",
            "count  14996.000000  14996.000000   14996.0  14996.000000      14996.0   \n",
            "mean     115.157048      0.000402       2.0      1.015337          1.0   \n",
            "std        5.324942      0.003317       0.0      0.122895          0.0   \n",
            "min      111.654060      0.000000       2.0      1.000000          1.0   \n",
            "25%      114.233528      0.000256       2.0      1.000000          1.0   \n",
            "50%      114.714172      0.000320       2.0      1.000000          1.0   \n",
            "75%      115.002563      0.000320       2.0      1.000000          1.0   \n",
            "max      170.565247      0.137315       2.0      2.000000          1.0   \n",
            "\n",
            "       P603 Status  \n",
            "count      14996.0  \n",
            "mean           1.0  \n",
            "std            0.0  \n",
            "min            1.0  \n",
            "25%            1.0  \n",
            "50%            1.0  \n",
            "75%            1.0  \n",
            "max            1.0  \n",
            "\n",
            "[8 rows x 66 columns]\n"
          ]
        }
      ]
    },
    {
      "cell_type": "code",
      "source": [
        "# Print the number of unique values in each column\n",
        "print(df.nunique())"
      ],
      "metadata": {
        "id": "grUijyyMcpWA",
        "colab": {
          "base_uri": "https://localhost:8080/"
        },
        "outputId": "ae925bf8-6174-4061-9a2c-ecd14ec6ec42"
      },
      "execution_count": null,
      "outputs": [
        {
          "output_type": "stream",
          "name": "stdout",
          "text": [
            "Timestamp      14991\n",
            "FIT 101          310\n",
            "LIT 101         4493\n",
            "MV 101             3\n",
            "P1_STATE           2\n",
            "               ...  \n",
            "LSL 603            1\n",
            "P6 STATE           1\n",
            "P601 Status        2\n",
            "P602 Status        1\n",
            "P603 Status        1\n",
            "Length: 78, dtype: int64\n"
          ]
        }
      ]
    },
    {
      "cell_type": "code",
      "source": [
        "# Print the data types of each column\n",
        "print(df.dtypes)"
      ],
      "metadata": {
        "id": "ITKbpyPTcry1",
        "colab": {
          "base_uri": "https://localhost:8080/"
        },
        "outputId": "8f5938c4-096f-4ed8-f230-593bd7d12e83"
      },
      "execution_count": null,
      "outputs": [
        {
          "output_type": "stream",
          "name": "stdout",
          "text": [
            "Timestamp       object\n",
            "FIT 101        float64\n",
            "LIT 101        float64\n",
            "MV 101           int64\n",
            "P1_STATE         int64\n",
            "                ...   \n",
            "LSL 603         object\n",
            "P6 STATE         int64\n",
            "P601 Status      int64\n",
            "P602 Status      int64\n",
            "P603 Status      int64\n",
            "Length: 78, dtype: object\n"
          ]
        }
      ]
    },
    {
      "cell_type": "code",
      "source": [
        "# Print the number of missing values in each column\n",
        "print(df.isnull().sum())"
      ],
      "metadata": {
        "id": "bSpq6wrWczWs",
        "colab": {
          "base_uri": "https://localhost:8080/"
        },
        "outputId": "e709ca31-2c7b-4775-ca63-fbe75816a5be"
      },
      "execution_count": null,
      "outputs": [
        {
          "output_type": "stream",
          "name": "stdout",
          "text": [
            "Timestamp      0\n",
            "FIT 101        0\n",
            "LIT 101        0\n",
            "MV 101         0\n",
            "P1_STATE       0\n",
            "              ..\n",
            "LSL 603        0\n",
            "P6 STATE       0\n",
            "P601 Status    0\n",
            "P602 Status    0\n",
            "P603 Status    0\n",
            "Length: 78, dtype: int64\n"
          ]
        }
      ]
    },
    {
      "cell_type": "code",
      "source": [
        "print(df.head)"
      ],
      "metadata": {
        "id": "XFQ4554hc100",
        "colab": {
          "base_uri": "https://localhost:8080/"
        },
        "outputId": "fd2813f8-8803-49a3-8806-f4e44cfa6c52"
      },
      "execution_count": null,
      "outputs": [
        {
          "output_type": "stream",
          "name": "stdout",
          "text": [
            "<bound method NDFrame.head of                     Timestamp   FIT 101     LIT 101  MV 101  P1_STATE  \\\n",
            "0       20/07/2019 4:39:59 PM  4.323736  492.896881       2         2   \n",
            "1       20/07/2019 4:39:58 PM  4.323736  492.465100       2         2   \n",
            "2       20/07/2019 4:39:57 PM  4.303558  492.308100       2         2   \n",
            "3       20/07/2019 4:39:56 PM  4.253915  491.405273       2         2   \n",
            "4       20/07/2019 4:39:55 PM  4.200429  491.169769       2         2   \n",
            "...                       ...       ...         ...     ...       ...   \n",
            "14991  20/07/2019 12:30:04 PM  0.000000  727.706900       1         3   \n",
            "14992  20/07/2019 12:30:03 PM  0.000000  728.688200       1         3   \n",
            "14993  20/07/2019 12:30:02 PM  0.000000  729.120000       1         3   \n",
            "14994  20/07/2019 12:30:01 PM  0.000000  729.434000       1         3   \n",
            "14995  20/07/2019 12:30:00 PM  0.000000  729.865800       1         3   \n",
            "\n",
            "       P101 Status  P102 Status     AIT 201   AIT 202     AIT 203  ...  \\\n",
            "0                2            1  131.408615  9.313829  257.933868  ...   \n",
            "1                2            1  131.408615  9.316713  257.703156  ...   \n",
            "2                2            1  131.408615  9.317354  257.703156  ...   \n",
            "3                2            1  131.408615  9.317354  257.703156  ...   \n",
            "4                2            1  131.408615  9.319918  257.703156  ...   \n",
            "...            ...          ...         ...       ...         ...  ...   \n",
            "14991            2            1  142.527557  9.289157  198.897720  ...   \n",
            "14992            2            1  142.527557  9.289157  198.667000  ...   \n",
            "14993            2            1  142.527557  9.293002  198.436300  ...   \n",
            "14994            2            1  142.527557  9.293002  198.385025  ...   \n",
            "14995            2            1  142.527557  9.293002  198.077423  ...   \n",
            "\n",
            "       LSH 601 LSH 602   LSH 603   LSL 601   LSL 602  LSL 603  P6 STATE  \\\n",
            "0       Active  Active  Inactive  Inactive  Inactive   Active         2   \n",
            "1       Active  Active  Inactive  Inactive  Inactive   Active         2   \n",
            "2       Active  Active  Inactive  Inactive  Inactive   Active         2   \n",
            "3       Active  Active  Inactive  Inactive  Inactive   Active         2   \n",
            "4       Active  Active  Inactive  Inactive  Inactive   Active         2   \n",
            "...        ...     ...       ...       ...       ...      ...       ...   \n",
            "14991   Active  Active  Inactive  Inactive  Inactive   Active         2   \n",
            "14992   Active  Active  Inactive  Inactive  Inactive   Active         2   \n",
            "14993   Active  Active  Inactive  Inactive  Inactive   Active         2   \n",
            "14994   Active  Active  Inactive  Inactive  Inactive   Active         2   \n",
            "14995   Active  Active  Inactive  Inactive  Inactive   Active         2   \n",
            "\n",
            "       P601 Status  P602 Status  P603 Status  \n",
            "0                1            1            1  \n",
            "1                1            1            1  \n",
            "2                1            1            1  \n",
            "3                1            1            1  \n",
            "4                1            1            1  \n",
            "...            ...          ...          ...  \n",
            "14991            1            1            1  \n",
            "14992            1            1            1  \n",
            "14993            1            1            1  \n",
            "14994            1            1            1  \n",
            "14995            1            1            1  \n",
            "\n",
            "[14996 rows x 78 columns]>\n"
          ]
        }
      ]
    },
    {
      "cell_type": "markdown",
      "source": [
        "# **DATA PREPROCESSING**"
      ],
      "metadata": {
        "id": "qxt8JPPhkXiy"
      }
    },
    {
      "cell_type": "code",
      "source": [
        "# Convert Timestamp column to datetime\n",
        "df['Timestamp'] = pd.to_datetime(df['Timestamp'])"
      ],
      "metadata": {
        "id": "i5jRuhOfdVWt"
      },
      "execution_count": null,
      "outputs": []
    },
    {
      "cell_type": "code",
      "source": [
        "# Subset the dataset to only include records between 12:35 PM and 4:35 PM on 20 July 2019\n",
        "start_time = pd.to_datetime(\"2019-07-20 12:35:00\")\n",
        "end_time = pd.to_datetime(\"2019-07-20 16:35:00\")\n",
        "df = df[(df['Timestamp'] >= start_time) & (df['Timestamp'] <= end_time)]"
      ],
      "metadata": {
        "id": "028SBjJ7WUpR"
      },
      "execution_count": null,
      "outputs": []
    },
    {
      "cell_type": "code",
      "source": [
        "# Print the shape of the DataFrame (number of rows and columns)\n",
        "print(df.shape)"
      ],
      "metadata": {
        "colab": {
          "base_uri": "https://localhost:8080/"
        },
        "id": "YQlrRSy-9OlY",
        "outputId": "caefddec-134b-446b-888e-a5805d8408c2"
      },
      "execution_count": null,
      "outputs": [
        {
          "output_type": "stream",
          "name": "stdout",
          "text": [
            "(14397, 78)\n"
          ]
        }
      ]
    },
    {
      "cell_type": "code",
      "source": [
        "!pip install --upgrade scikit-learn"
      ],
      "metadata": {
        "colab": {
          "base_uri": "https://localhost:8080/"
        },
        "id": "EX8-540aWcws",
        "outputId": "230d120f-af60-44e2-cdc7-9afa96849e33"
      },
      "execution_count": null,
      "outputs": [
        {
          "output_type": "stream",
          "name": "stdout",
          "text": [
            "Looking in indexes: https://pypi.org/simple, https://us-python.pkg.dev/colab-wheels/public/simple/\n",
            "Requirement already satisfied: scikit-learn in /usr/local/lib/python3.10/dist-packages (1.2.2)\n",
            "Requirement already satisfied: scipy>=1.3.2 in /usr/local/lib/python3.10/dist-packages (from scikit-learn) (1.10.1)\n",
            "Requirement already satisfied: joblib>=1.1.1 in /usr/local/lib/python3.10/dist-packages (from scikit-learn) (1.2.0)\n",
            "Requirement already satisfied: numpy>=1.17.3 in /usr/local/lib/python3.10/dist-packages (from scikit-learn) (1.22.4)\n",
            "Requirement already satisfied: threadpoolctl>=2.0.0 in /usr/local/lib/python3.10/dist-packages (from scikit-learn) (3.1.0)\n"
          ]
        }
      ]
    },
    {
      "cell_type": "markdown",
      "source": [
        "Encoding and Filtering"
      ],
      "metadata": {
        "id": "-I8SHa3ikrId"
      }
    },
    {
      "cell_type": "code",
      "source": [
        "# Select only the categorical columns\n",
        "cat_cols = [\"P1_STATE\", \"P2_STATE\", \"P3_STATE\", \"P4_STATE\", \"P5_STATE\", \"P6 STATE\",\n",
        "            \"P101 Status\", \"P102 Status\", \"P201 Status\", \"P202 Status\", \"P203 Status\",\n",
        "            \"P204 Status\", \"P205 Status\", \"P206 Status\", \"P207 Status\", \"P208 Status\",\n",
        "            \"P301 Status\", \"P302 Status\", \"LS 201\", \"LS 202\", \"LSL 203\", \"LSLL 203\",\n",
        "            \"MV201\", \"MV 301\", \"MV 302\", \"MV 303\", \"MV 304\", \"UV401\",\n",
        "            \"MV 501\", \"MV 502\", \"MV 503\", \"MV 504\",\n",
        "            \"P501 Status\", \"P502 Status\"]\n",
        "df_cat = df[cat_cols]\n",
        "\n",
        "# Perform one-hot encoding on the state columns\n",
        "ohe = OneHotEncoder(sparse=False)\n",
        "state_ohe = ohe.fit_transform(df_cat[[\"P1_STATE\", \"P2_STATE\", \"P3_STATE\",\n",
        "                                      \"P4_STATE\", \"P5_STATE\", \"P6 STATE\"]])\n",
        "state_ohe_df = pd.DataFrame(state_ohe, columns=ohe.get_feature_names_out([\"P1_STATE\",\n",
        "                                                                      \"P2_STATE\",\n",
        "                                                                      \"P3_STATE\",\n",
        "                                                                      \"P4_STATE\",\n",
        "                                                                      \"P5_STATE\",\n",
        "                                                                      \"P6 STATE\"]))\n",
        "df_cat = pd.concat([df_cat, state_ohe_df], axis=1).drop([\"P1_STATE\",\n",
        "                                                         \"P2_STATE\",\n",
        "                                                         \"P3_STATE\",\n",
        "                                                         \"P4_STATE\",\n",
        "                                                         \"P5_STATE\",\n",
        "                                                         \"P6 STATE\"], axis=1)\n",
        "\n",
        "# Perform label encoding on the status columns\n",
        "le = LabelEncoder()\n",
        "for col in df_cat.columns:\n",
        "    if col.startswith(\"LS\") or col.startswith(\"MV\") or col.startswith(\"UV\") or col.endswith(\"Status\") and col !=\"Timestamp\":\n",
        "        df_cat[col] = le.fit_transform(df_cat[col])\n",
        "\n",
        "# Overwrite only the categorical columns in df with the encoded columns from df_cat\n",
        "df.update(df_cat)"
      ],
      "metadata": {
        "colab": {
          "base_uri": "https://localhost:8080/"
        },
        "id": "3g5lGqYIWgNg",
        "outputId": "c6eb02e5-f1d4-4acf-d02a-59bec4b12bcb"
      },
      "execution_count": null,
      "outputs": [
        {
          "output_type": "stream",
          "name": "stderr",
          "text": [
            "/usr/local/lib/python3.10/dist-packages/sklearn/preprocessing/_encoders.py:868: FutureWarning: `sparse` was renamed to `sparse_output` in version 1.2 and will be removed in 1.4. `sparse_output` is ignored unless you leave `sparse` to its default value.\n",
            "  warnings.warn(\n"
          ]
        }
      ]
    },
    {
      "cell_type": "markdown",
      "source": [
        "# **Data Labeling and Normalizing**"
      ],
      "metadata": {
        "id": "GJEnLyD9k-xU"
      }
    },
    {
      "cell_type": "code",
      "source": [
        "df = df.set_index('Timestamp')\n",
        "# Label the attacks as binary\n",
        "df['Attack'] = 0\n",
        "# Attack on FIT401\n",
        "df.loc[(df.index >= pd.to_datetime(\"2019-07-20 15:08:46\")) & (df.index <= pd.to_datetime(\"2019-07-20 15:10:31\")), 'Attack'] = 1\n",
        "# Attack on LIT301\n",
        "df.loc[(df.index >= pd.to_datetime(\"2019-07-20 15:15:00\")) & (df.index <= pd.to_datetime(\"2019-07-20 15:19:32\")), 'Attack'] = 1\n",
        "# Attack on P601\n",
        "df.loc[(df.index >= pd.to_datetime(\"2019-07-20 15:26:57\")) & (df.index <= pd.to_datetime(\"2019-07-20 15:30:48\")), 'Attack'] = 1\n",
        "# Multi-point Attack\n",
        "df.loc[(df.index >= pd.to_datetime(\"2019-07-20 15:38:50\")) & (df.index <= pd.to_datetime(\"2019-07-20 15:46:20\")), 'Attack'] = 1\n",
        "# Attack on MV501\n",
        "df.loc[(df.index >= pd.to_datetime(\"2019-07-20 15:54:00\")) & (df.index <= pd.to_datetime(\"2019-07-20 15:56:00\")), 'Attack'] = 1\n",
        "# Attack on P301\n",
        "df.loc[(df.index >= pd.to_datetime(\"2019-07-20 16:02:56\")) & (df.index <= pd.to_datetime(\"2019-07-20 16:16:18\")), 'Attack'] = 1"
      ],
      "metadata": {
        "id": "-RSLcLnrWqLr"
      },
      "execution_count": null,
      "outputs": []
    },
    {
      "cell_type": "code",
      "source": [
        "total_labeled_rows = len(df[df['Attack'] == 1])\n",
        "print(\"Total number of rows labeled with attacks:\", total_labeled_rows)\n",
        "total_nonlabeled_rows = len(df[df['Attack'] == 0])\n",
        "print(\"Total number of rows not labeled:\", total_nonlabeled_rows)"
      ],
      "metadata": {
        "colab": {
          "base_uri": "https://localhost:8080/"
        },
        "id": "VNw4_nNJS8j1",
        "outputId": "0f5c26ed-76a3-4864-8ef1-6664daee6266"
      },
      "execution_count": null,
      "outputs": [
        {
          "output_type": "stream",
          "name": "stdout",
          "text": [
            "Total number of rows labeled with attacks: 1986\n",
            "Total number of rows not labeled: 12411\n"
          ]
        }
      ]
    },
    {
      "cell_type": "code",
      "source": [
        "from sklearn.preprocessing import StandardScaler\n",
        "\n",
        "# Separate the Attack column\n",
        "attack_series = df.pop('Attack')\n",
        "\n",
        "# Normalize the numeric columns, exclude the Attack column\n",
        "numeric_cols = df.select_dtypes(include=['float64', 'int64']).columns\n",
        "numeric_cols = [col for col in numeric_cols if col != 'Attack']\n",
        "scaler = StandardScaler()\n",
        "df[numeric_cols] = scaler.fit_transform(df[numeric_cols])\n",
        "\n",
        "# Add the Attack column back to the dataframe\n",
        "df['Attack'] = attack_series\n",
        "\n",
        "# Fill missing values with zeros\n",
        "df.fillna(0, inplace=True)\n",
        "\n",
        "# # Drop unnecessary columns\n",
        "# columns_to_drop = ['LS 401', 'LSH 601', 'LSH 602', 'LSH 603', 'LSL 601', 'LSL 602', 'LSL 603']\n",
        "# df.drop(columns_to_drop, axis=1, inplace=True)"
      ],
      "metadata": {
        "id": "ybpZvzyXWypm"
      },
      "execution_count": null,
      "outputs": []
    },
    {
      "cell_type": "code",
      "source": [
        "# Create an instance of LabelEncoder\n",
        "le = LabelEncoder()\n",
        "\n",
        "# List of columns to be transformed\n",
        "columns_to_encode = ['LS 401', 'LSH 601', 'LSH 602', 'LSH 603', 'LSL 601', 'LSL 602', 'LSL 603']\n",
        "\n",
        "# Apply LabelEncoder to each column\n",
        "for column in columns_to_encode:\n",
        "    df[column] = le.fit_transform(df[column])\n",
        "\n",
        "df = df.astype(np.float32)"
      ],
      "metadata": {
        "id": "EAyrzEqUBVEO"
      },
      "execution_count": null,
      "outputs": []
    },
    {
      "cell_type": "code",
      "source": [
        "print(df.head())"
      ],
      "metadata": {
        "colab": {
          "base_uri": "https://localhost:8080/"
        },
        "id": "xcgnP4lFLEOX",
        "outputId": "6a1f49ac-aa0b-4bf4-d6d0-b0c203200ddb"
      },
      "execution_count": null,
      "outputs": [
        {
          "output_type": "stream",
          "name": "stdout",
          "text": [
            "                      FIT 101   LIT 101    MV 101  P1_STATE  P101 Status  \\\n",
            "Timestamp                                                                  \n",
            "2019-07-20 16:35:00 -0.463164 -1.072026 -0.417491 -0.212852     1.368395   \n",
            "2019-07-20 16:34:59 -0.463164 -1.061974 -0.417491 -0.212852     1.368395   \n",
            "2019-07-20 16:34:58 -0.463164 -1.056230 -0.417491 -0.212852     1.368395   \n",
            "2019-07-20 16:34:57 -0.463164 -1.053357 -0.417491 -0.212852     1.368395   \n",
            "2019-07-20 16:34:56 -0.463164 -1.046895 -0.417491 -0.212852     1.368395   \n",
            "\n",
            "                     P102 Status   AIT 201   AIT 202   AIT 203   FIT 201  ...  \\\n",
            "Timestamp                                                                 ...   \n",
            "2019-07-20 16:35:00          0.0 -0.870361  0.566302  0.009090  1.372166  ...   \n",
            "2019-07-20 16:34:59          0.0 -0.870361  0.584273  0.009090  1.372166  ...   \n",
            "2019-07-20 16:34:58          0.0 -0.870361  0.584273  0.009090  1.371237  ...   \n",
            "2019-07-20 16:34:57          0.0 -0.870361  0.584273  0.009090  1.370192  ...   \n",
            "2019-07-20 16:34:56          0.0 -0.870361  0.584273 -0.007032  1.370192  ...   \n",
            "\n",
            "                    P502 Status   PIT 501   PIT 502   PIT 503   FIT 601  \\\n",
            "Timestamp                                                                 \n",
            "2019-07-20 16:35:00         0.0 -0.336598 -0.121501 -0.274878 -0.025213   \n",
            "2019-07-20 16:34:59         0.0 -0.336598 -0.121501 -0.274878 -0.025213   \n",
            "2019-07-20 16:34:58         0.0 -0.336598 -0.121501 -0.274878 -0.025213   \n",
            "2019-07-20 16:34:57         0.0 -0.336598 -0.121501 -0.274878 -0.025213   \n",
            "2019-07-20 16:34:56         0.0 -0.336598 -0.121501 -0.274878 -0.025213   \n",
            "\n",
            "                     P6 STATE  P601 Status  P602 Status  P603 Status  Attack  \n",
            "Timestamp                                                                     \n",
            "2019-07-20 16:35:00       0.0    -0.127416          0.0          0.0       0  \n",
            "2019-07-20 16:34:59       0.0    -0.127416          0.0          0.0       0  \n",
            "2019-07-20 16:34:58       0.0    -0.127416          0.0          0.0       0  \n",
            "2019-07-20 16:34:57       0.0    -0.127416          0.0          0.0       0  \n",
            "2019-07-20 16:34:56       0.0    -0.127416          0.0          0.0       0  \n",
            "\n",
            "[5 rows x 71 columns]\n"
          ]
        }
      ]
    },
    {
      "cell_type": "code",
      "source": [
        "if (df['Attack'] > 0 ).any():\n",
        "  print(\"The Attack column has values greater than 0\")\n",
        "else:\n",
        "  print(\"it has none\")"
      ],
      "metadata": {
        "colab": {
          "base_uri": "https://localhost:8080/"
        },
        "id": "v-w1jTJMMGNG",
        "outputId": "a48b0cdc-6fed-4d72-ee3d-a1c7850e7c56"
      },
      "execution_count": null,
      "outputs": [
        {
          "output_type": "stream",
          "name": "stdout",
          "text": [
            "The Attack column has values greater than 0\n"
          ]
        }
      ]
    },
    {
      "cell_type": "code",
      "source": [
        "# filtered_df = df[df['Attack'] != 0]\n",
        "# print(filtered_df)"
      ],
      "metadata": {
        "id": "89_mnKdDM06p"
      },
      "execution_count": null,
      "outputs": []
    },
    {
      "cell_type": "code",
      "source": [
        "print(df.columns)"
      ],
      "metadata": {
        "colab": {
          "base_uri": "https://localhost:8080/"
        },
        "id": "elHrRp0H4Ga1",
        "outputId": "99618642-ad83-4e17-a7e2-6e8304e6a116"
      },
      "execution_count": null,
      "outputs": [
        {
          "output_type": "stream",
          "name": "stdout",
          "text": [
            "Index(['FIT 101', 'LIT 101', 'MV 101', 'P1_STATE', 'P101 Status',\n",
            "       'P102 Status', 'AIT 201', 'AIT 202', 'AIT 203', 'FIT 201', 'LS 201',\n",
            "       'LS 202', 'LSL 203', 'LSLL 203', 'MV201', 'P2_STATE', 'P201 Status',\n",
            "       'P202 Status', 'P203 Status', 'P204 Status', 'P205 Status',\n",
            "       'P206 Status', 'P207 Status', 'P208 Status', 'AIT 301', 'AIT 302',\n",
            "       'AIT 303', 'DPIT 301', 'FIT 301', 'LIT 301', 'MV 301', 'MV 302',\n",
            "       'MV 303', 'MV 304', 'P3_STATE', 'P301 Status', 'P302 Status', 'AIT 401',\n",
            "       'AIT 402', 'FIT 401', 'LIT 401', 'P4_STATE', 'P401 Status',\n",
            "       'P402 Status', 'P403 Status', 'P404 Status', 'UV401', 'AIT 501',\n",
            "       'AIT 502', 'AIT 503', 'AIT 504', 'FIT 501', 'FIT 502', 'FIT 503',\n",
            "       'FIT 504', 'MV 501', 'MV 502', 'MV 503', 'MV 504', 'P5_STATE',\n",
            "       'P501 Status', 'P502 Status', 'PIT 501', 'PIT 502', 'PIT 503',\n",
            "       'FIT 601', 'P6 STATE', 'P601 Status', 'P602 Status', 'P603 Status',\n",
            "       'Attack'],\n",
            "      dtype='object')\n"
          ]
        }
      ]
    },
    {
      "cell_type": "code",
      "source": [
        "!pip install modAL\n"
      ],
      "metadata": {
        "colab": {
          "base_uri": "https://localhost:8080/"
        },
        "id": "7V2-HPj-VjIE",
        "outputId": "1e9736b9-0bbb-4305-fe01-35a69ccf674e"
      },
      "execution_count": null,
      "outputs": [
        {
          "output_type": "stream",
          "name": "stdout",
          "text": [
            "Requirement already satisfied: modAL in /usr/local/lib/python3.10/dist-packages (0.54.3835)\n",
            "Requirement already satisfied: aiohttp in /usr/local/lib/python3.10/dist-packages (from modAL) (3.8.6)\n",
            "Requirement already satisfied: aiostream in /usr/local/lib/python3.10/dist-packages (from modAL) (0.5.1)\n",
            "Requirement already satisfied: asgiref in /usr/local/lib/python3.10/dist-packages (from modAL) (3.7.2)\n",
            "Requirement already satisfied: certifi in /usr/local/lib/python3.10/dist-packages (from modAL) (2023.7.22)\n",
            "Requirement already satisfied: click>=8.1.0 in /usr/local/lib/python3.10/dist-packages (from modAL) (8.1.7)\n",
            "Requirement already satisfied: fastapi in /usr/local/lib/python3.10/dist-packages (from modAL) (0.103.2)\n",
            "Requirement already satisfied: grpclib==0.4.3 in /usr/local/lib/python3.10/dist-packages (from modAL) (0.4.3)\n",
            "Requirement already satisfied: importlib-metadata>=3.6.0 in /usr/local/lib/python3.10/dist-packages (from modAL) (6.8.0)\n",
            "Requirement already satisfied: protobuf!=4.24.0,<5.0,>=3.19 in /usr/local/lib/python3.10/dist-packages (from modAL) (3.20.3)\n",
            "Requirement already satisfied: rich>=12.0.0 in /usr/local/lib/python3.10/dist-packages (from modAL) (13.6.0)\n",
            "Requirement already satisfied: synchronicity~=0.5.3 in /usr/local/lib/python3.10/dist-packages (from modAL) (0.5.3)\n",
            "Requirement already satisfied: tblib>=1.7.0 in /usr/local/lib/python3.10/dist-packages (from modAL) (2.0.0)\n",
            "Requirement already satisfied: toml in /usr/local/lib/python3.10/dist-packages (from modAL) (0.10.2)\n",
            "Requirement already satisfied: typer~=0.9.0 in /usr/local/lib/python3.10/dist-packages (from modAL) (0.9.0)\n",
            "Requirement already satisfied: types-certifi in /usr/local/lib/python3.10/dist-packages (from modAL) (2021.10.8.3)\n",
            "Requirement already satisfied: types-toml in /usr/local/lib/python3.10/dist-packages (from modAL) (0.10.8.7)\n",
            "Requirement already satisfied: watchfiles in /usr/local/lib/python3.10/dist-packages (from modAL) (0.21.0)\n",
            "Requirement already satisfied: typing-extensions~=4.6 in /usr/local/lib/python3.10/dist-packages (from modAL) (4.8.0)\n",
            "Requirement already satisfied: cloudpickle<2.1.0,>=2.0.0 in /usr/local/lib/python3.10/dist-packages (from modAL) (2.0.0)\n",
            "Requirement already satisfied: h2<5,>=3.1.0 in /usr/local/lib/python3.10/dist-packages (from grpclib==0.4.3->modAL) (4.1.0)\n",
            "Requirement already satisfied: multidict in /usr/local/lib/python3.10/dist-packages (from grpclib==0.4.3->modAL) (6.0.4)\n",
            "Requirement already satisfied: zipp>=0.5 in /usr/local/lib/python3.10/dist-packages (from importlib-metadata>=3.6.0->modAL) (3.17.0)\n",
            "Requirement already satisfied: markdown-it-py>=2.2.0 in /usr/local/lib/python3.10/dist-packages (from rich>=12.0.0->modAL) (3.0.0)\n",
            "Requirement already satisfied: pygments<3.0.0,>=2.13.0 in /usr/local/lib/python3.10/dist-packages (from rich>=12.0.0->modAL) (2.16.1)\n",
            "Requirement already satisfied: sigtools==4.0.1 in /usr/local/lib/python3.10/dist-packages (from synchronicity~=0.5.3->modAL) (4.0.1)\n",
            "Requirement already satisfied: attrs in /usr/local/lib/python3.10/dist-packages (from sigtools==4.0.1->synchronicity~=0.5.3->modAL) (23.1.0)\n",
            "Requirement already satisfied: charset-normalizer<4.0,>=2.0 in /usr/local/lib/python3.10/dist-packages (from aiohttp->modAL) (3.3.0)\n",
            "Requirement already satisfied: async-timeout<5.0,>=4.0.0a3 in /usr/local/lib/python3.10/dist-packages (from aiohttp->modAL) (4.0.3)\n",
            "Requirement already satisfied: yarl<2.0,>=1.0 in /usr/local/lib/python3.10/dist-packages (from aiohttp->modAL) (1.9.2)\n",
            "Requirement already satisfied: frozenlist>=1.1.1 in /usr/local/lib/python3.10/dist-packages (from aiohttp->modAL) (1.4.0)\n",
            "Requirement already satisfied: aiosignal>=1.1.2 in /usr/local/lib/python3.10/dist-packages (from aiohttp->modAL) (1.3.1)\n",
            "Requirement already satisfied: anyio<4.0.0,>=3.7.1 in /usr/local/lib/python3.10/dist-packages (from fastapi->modAL) (3.7.1)\n",
            "Requirement already satisfied: pydantic!=1.8,!=1.8.1,!=2.0.0,!=2.0.1,!=2.1.0,<3.0.0,>=1.7.4 in /usr/local/lib/python3.10/dist-packages (from fastapi->modAL) (1.10.13)\n",
            "Requirement already satisfied: starlette<0.28.0,>=0.27.0 in /usr/local/lib/python3.10/dist-packages (from fastapi->modAL) (0.27.0)\n",
            "Requirement already satisfied: idna>=2.8 in /usr/local/lib/python3.10/dist-packages (from anyio<4.0.0,>=3.7.1->fastapi->modAL) (3.4)\n",
            "Requirement already satisfied: sniffio>=1.1 in /usr/local/lib/python3.10/dist-packages (from anyio<4.0.0,>=3.7.1->fastapi->modAL) (1.3.0)\n",
            "Requirement already satisfied: exceptiongroup in /usr/local/lib/python3.10/dist-packages (from anyio<4.0.0,>=3.7.1->fastapi->modAL) (1.1.3)\n",
            "Requirement already satisfied: hyperframe<7,>=6.0 in /usr/local/lib/python3.10/dist-packages (from h2<5,>=3.1.0->grpclib==0.4.3->modAL) (6.0.1)\n",
            "Requirement already satisfied: hpack<5,>=4.0 in /usr/local/lib/python3.10/dist-packages (from h2<5,>=3.1.0->grpclib==0.4.3->modAL) (4.0.0)\n",
            "Requirement already satisfied: mdurl~=0.1 in /usr/local/lib/python3.10/dist-packages (from markdown-it-py>=2.2.0->rich>=12.0.0->modAL) (0.1.2)\n"
          ]
        }
      ]
    },
    {
      "cell_type": "code",
      "source": [
        "from sklearn.ensemble import RandomForestClassifier, IsolationForest\n",
        "from sklearn.metrics import accuracy_score, f1_score, precision_score, recall_score, confusion_matrix\n",
        "import pandas as pd\n",
        "import numpy as np\n",
        "\n",
        "# Function for weak supervision\n",
        "def weak_label(row):\n",
        "    # Define attack intents\n",
        "    attack_intents = [\n",
        "        {\n",
        "            'description': \"To stop de-chlorination by switching off UV401\",\n",
        "            'features': ['FIT 401', 'UV401'],\n",
        "            'thresholds': [0.8, 0.5]\n",
        "        },\n",
        "        {\n",
        "            'description': \"To eventually lead to underflow in T301\",\n",
        "            'features': ['LIT 301'],\n",
        "            'thresholds': [835, 1024]\n",
        "        },\n",
        "        {\n",
        "            'description': \"To increase water in raw water tank\",\n",
        "            'features': ['P601 Status'],\n",
        "            'thresholds': [0, 1]  # Switch from OFF to ON\n",
        "        },\n",
        "        {\n",
        "            'description': \"To overflow tank T301\",\n",
        "            'features': ['MV201', 'P101 Status'],\n",
        "            'thresholds': [0, 1]  # Switch from CLOSE to OPEN and OFF to ON\n",
        "        },\n",
        "        {\n",
        "            'description': \"To drain water from RO\",\n",
        "            'features': ['MV 501'],\n",
        "            'thresholds': [1, 0]  # Switch from OPEN to CLOSE\n",
        "        },\n",
        "        {\n",
        "            'description': \"To halt stage 3 (UF process)\",\n",
        "            'features': ['P301 Status'],\n",
        "            'thresholds': [1, 0]  # Switch from ON to OFF\n",
        "        }\n",
        "    ]\n",
        "\n",
        "    # Check if the row's features match the attack intent\n",
        "    for intent in attack_intents:\n",
        "        features_match = all(\n",
        "            row[feature] >= threshold if threshold > 0 else row[feature] <= threshold\n",
        "            for feature, threshold in zip(intent['features'], intent['thresholds'])\n",
        "        )\n",
        "        if features_match:\n",
        "            return 1  # Weak label for attack intent\n",
        "\n",
        "    return 0  # Default weak label for normal behavior\n",
        "\n",
        "# Apply weak supervision and create a new column for weak labels\n",
        "df['weak_label'] = df.apply(weak_label, axis=1)\n",
        "\n",
        "# Preparing the data\n",
        "X = df.drop(['Attack'], axis=1)  # Include weak_label as a feature\n",
        "y = df['Attack']\n",
        "\n",
        "# Initialize RandomForest and IsolationForest\n",
        "rf = RandomForestClassifier(n_estimators=150, random_state=80)\n",
        "rf.fit(X, y)\n",
        "\n",
        "iso_forest = IsolationForest(n_estimators=150, contamination=0.2, random_state=80)\n",
        "iso_forest.fit(X)\n",
        "\n",
        "# Make predictions\n",
        "rf_predictions = rf.predict(X)\n",
        "iso_predictions = iso_forest.predict(X)\n",
        "iso_predictions_mapped = np.where(iso_predictions == -1, 1, 0)  # Mapping for Isolation Forest\n",
        "\n",
        "# Combine predictions\n",
        "combined_predictions = (rf_predictions + iso_predictions_mapped) / 2\n",
        "final_predictions = np.round(combined_predictions)\n",
        "\n",
        "# Function to calculate and print metrics including confusion matrix\n",
        "def evaluate_model(y_true, y_pred):\n",
        "    accuracy = accuracy_score(y_true, y_pred)\n",
        "    f1 = f1_score(y_true, y_pred)\n",
        "    precision = precision_score(y_true, y_pred)\n",
        "    recall = recall_score(y_true, y_pred)\n",
        "\n",
        "    # Calculate confusion matrix\n",
        "    cm = confusion_matrix(y_true, y_pred)\n",
        "\n",
        "    print(f\"Accuracy: {accuracy}\")\n",
        "    print(f\"F1 Score: {f1}\")\n",
        "    print(f\"Precision: {precision}\")\n",
        "    print(f\"Recall: {recall}\")\n",
        "    print(\"Confusion Matrix:\")\n",
        "    print(cm)\n",
        "\n",
        "# Evaluate the ensemble model\n",
        "print(\"Ensemble Model Evaluation With Weak Label as Feature:\")\n",
        "evaluate_model(y, final_predictions)"
      ],
      "metadata": {
        "colab": {
          "base_uri": "https://localhost:8080/"
        },
        "id": "47Y6e116a9f0",
        "outputId": "dc3b0ff4-82fa-478d-88ec-eb9ff69b53c3"
      },
      "execution_count": null,
      "outputs": [
        {
          "output_type": "stream",
          "name": "stderr",
          "text": [
            "/usr/local/lib/python3.10/dist-packages/sklearn/base.py:439: UserWarning: X does not have valid feature names, but IsolationForest was fitted with feature names\n",
            "  warnings.warn(\n"
          ]
        },
        {
          "output_type": "stream",
          "name": "stdout",
          "text": [
            "Ensemble Model Evaluation With Weak Label as Feature:\n",
            "Accuracy: 0.9118566367993332\n",
            "F1 Score: 0.5305216426193119\n",
            "Precision: 1.0\n",
            "Recall: 0.3610271903323263\n",
            "Confusion Matrix:\n",
            "[[12411     0]\n",
            " [ 1269   717]]\n"
          ]
        }
      ]
    },
    {
      "cell_type": "code",
      "source": [
        "# ROC AUC curve\n",
        "rf_probs = rf.predict_proba(X)[:, 1]\n",
        "iso_forest_probs = (iso_forest.decision_function(X) + 1) / 2  # Normalize the decision function\n",
        "roc_auc_rf = roc_auc_score(y, rf_probs)\n",
        "roc_auc_iso_forest = roc_auc_score(y, iso_forest_probs)\n",
        "\n",
        "fpr_rf, tpr_rf, _ = roc_curve(y, rf_probs)\n",
        "fpr_iso_forest, tpr_iso_forest, _ = roc_curve(y, iso_forest_probs)\n",
        "\n",
        "plt.figure(figsize=(10, 6))\n",
        "plt.plot(fpr_rf, tpr_rf, color='darkorange', lw=2, label=f'RF ROC curve (area = {roc_auc_rf:.2f})')\n",
        "plt.plot(fpr_iso_forest, tpr_iso_forest, color='darkgreen', lw=2, label=f'ISO Forest ROC curve (area = {roc_auc_iso_forest:.2f})')\n",
        "plt.plot([0, 1], [0, 1], color='navy', lw=2, linestyle='--')\n",
        "plt.xlim([0.0, 1.0])\n",
        "plt.ylim([0.0, 1.05])\n",
        "plt.xlabel('False Positive Rate')\n",
        "plt.ylabel('True Positive Rate')\n",
        "plt.title('Receiver Operating Characteristic (ROC) Curve')\n",
        "plt.legend(loc=\"lower right\")\n",
        "plt.show()"
      ],
      "metadata": {
        "colab": {
          "base_uri": "https://localhost:8080/",
          "height": 549
        },
        "id": "EWWAw5bGg_yJ",
        "outputId": "c3cddd55-9adc-4503-e4c6-409c34ccb3a8"
      },
      "execution_count": null,
      "outputs": [
        {
          "output_type": "display_data",
          "data": {
            "text/plain": [
              "<Figure size 1000x600 with 1 Axes>"
            ],
            "image/png": "[encoded data removed]"
          },
          "metadata": {}
        }
      ]
    },
    {
      "cell_type": "code",
      "source": [],
      "metadata": {
        "colab": {
          "base_uri": "https://localhost:8080/",
          "height": 473
        },
        "id": "j8kUg0FihFUS",
        "outputId": "47adc492-abbf-4016-9367-9af2923f6aa1"
      },
      "execution_count": null,
      "outputs": [
        {
          "output_type": "display_data",
          "data": {
            "text/plain": [
              "<Figure size 1200x600 with 1 Axes>"
            ],
            "image/png": "[encoded data removed]"
          },
          "metadata": {}
        }
      ]
    },
    {
      "cell_type": "code",
      "source": [
        "# Function for active learning loop with fixed number of labels per iteration\n",
        "def active_learning_loop(X, y, rf, iso_forest, iterations=1, labels_per_iteration=5):\n",
        "    for i in range(iterations):\n",
        "        # Get prediction probabilities and anomaly scores\n",
        "        rf_probs = rf.predict_proba(X)[:, 1]\n",
        "        iso_scores = iso_forest.decision_function(X)\n",
        "\n",
        "        # Calculate uncertainty and select the top N uncertain samples\n",
        "        uncertainty_measure = np.abs(rf_probs - 0.5) + np.abs(iso_scores)\n",
        "        most_uncertain_indices = np.argsort(uncertainty_measure)[-labels_per_iteration:]\n",
        "\n",
        "        print(f\"Iteration {i+1}: Asking user feedback for {labels_per_iteration} most uncertain samples.\")\n",
        "        for index in most_uncertain_indices:\n",
        "            print(f\"Data: {X.iloc[index]}\")\n",
        "            correct_label = int(input(\"Enter the correct label (0 or 1): \"))\n",
        "            y.iloc[index] = correct_label  # Update the label with user input\n",
        "\n",
        "        # Re-train the models\n",
        "        rf.fit(X, y)\n",
        "        iso_forest.fit(X)\n",
        "\n",
        "        # Evaluate and print the updated model performance\n",
        "        print(\"Updated Model Evaluation:\")\n",
        "        final_predictions = np.round((rf.predict(X) + np.where(iso_forest.predict(X) == -1, 1, 0)) / 2)\n",
        "        evaluate_model(y, final_predictions)\n",
        "\n",
        "# Call the active learning loop\n",
        "active_learning_loop(X, y, rf, iso_forest)\n"
      ],
      "metadata": {
        "colab": {
          "base_uri": "https://localhost:8080/"
        },
        "id": "1JrP8wqEo5-i",
        "outputId": "9ecaf3c6-40d1-4e01-8fbf-7b1e193e4844"
      },
      "execution_count": null,
      "outputs": [
        {
          "name": "stdout",
          "output_type": "stream",
          "text": [
            "Iteration 1: Asking user feedback for 5 most uncertain samples.\n",
            "Data: FIT 101       -0.463164\n",
            "LIT 101        0.748186\n",
            "MV 101        -0.417491\n",
            "P1_STATE      -0.212852\n",
            "P101 Status   -0.730783\n",
            "                 ...   \n",
            "P6 STATE       0.000000\n",
            "P601 Status   -0.127416\n",
            "P602 Status    0.000000\n",
            "P603 Status    0.000000\n",
            "weak_label     1.000000\n",
            "Name: 2019-07-20 15:53:05, Length: 78, dtype: float64\n",
            "Enter the correct label (0 or 1): 1\n"
          ]
        },
        {
          "output_type": "stream",
          "name": "stderr",
          "text": [
            "<ipython-input-15-2d0f9bcf2da8>:16: SettingWithCopyWarning: \n",
            "A value is trying to be set on a copy of a slice from a DataFrame\n",
            "\n",
            "See the caveats in the documentation: https://pandas.pydata.org/pandas-docs/stable/user_guide/indexing.html#returning-a-view-versus-a-copy\n",
            "  y.iloc[index] = correct_label  # Update the label with user input\n"
          ]
        },
        {
          "name": "stdout",
          "output_type": "stream",
          "text": [
            "Data: FIT 101       -0.463164\n",
            "LIT 101        0.744955\n",
            "MV 101        -0.417491\n",
            "P1_STATE      -0.212852\n",
            "P101 Status   -0.730783\n",
            "                 ...   \n",
            "P6 STATE       0.000000\n",
            "P601 Status   -0.127416\n",
            "P602 Status    0.000000\n",
            "P603 Status    0.000000\n",
            "weak_label     1.000000\n",
            "Name: 2019-07-20 15:53:07, Length: 78, dtype: float64\n",
            "Enter the correct label (0 or 1): 0\n"
          ]
        },
        {
          "output_type": "stream",
          "name": "stderr",
          "text": [
            "<ipython-input-15-2d0f9bcf2da8>:16: SettingWithCopyWarning: \n",
            "A value is trying to be set on a copy of a slice from a DataFrame\n",
            "\n",
            "See the caveats in the documentation: https://pandas.pydata.org/pandas-docs/stable/user_guide/indexing.html#returning-a-view-versus-a-copy\n",
            "  y.iloc[index] = correct_label  # Update the label with user input\n"
          ]
        },
        {
          "name": "stdout",
          "output_type": "stream",
          "text": [
            "Data: FIT 101       -0.463164\n",
            "LIT 101        0.746750\n",
            "MV 101        -0.417491\n",
            "P1_STATE      -0.212852\n",
            "P101 Status   -0.730783\n",
            "                 ...   \n",
            "P6 STATE       0.000000\n",
            "P601 Status   -0.127416\n",
            "P602 Status    0.000000\n",
            "P603 Status    0.000000\n",
            "weak_label     1.000000\n",
            "Name: 2019-07-20 15:53:06, Length: 78, dtype: float64\n",
            "Enter the correct label (0 or 1): 1\n"
          ]
        },
        {
          "output_type": "stream",
          "name": "stderr",
          "text": [
            "<ipython-input-15-2d0f9bcf2da8>:16: SettingWithCopyWarning: \n",
            "A value is trying to be set on a copy of a slice from a DataFrame\n",
            "\n",
            "See the caveats in the documentation: https://pandas.pydata.org/pandas-docs/stable/user_guide/indexing.html#returning-a-view-versus-a-copy\n",
            "  y.iloc[index] = correct_label  # Update the label with user input\n"
          ]
        },
        {
          "name": "stdout",
          "output_type": "stream",
          "text": [
            "Data: FIT 101       -0.463164\n",
            "LIT 101        0.742441\n",
            "MV 101        -0.417491\n",
            "P1_STATE      -0.212852\n",
            "P101 Status   -0.730783\n",
            "                 ...   \n",
            "P6 STATE       0.000000\n",
            "P601 Status   -0.127416\n",
            "P602 Status    0.000000\n",
            "P603 Status    0.000000\n",
            "weak_label     1.000000\n",
            "Name: 2019-07-20 15:53:11, Length: 78, dtype: float64\n",
            "Enter the correct label (0 or 1): 1\n"
          ]
        },
        {
          "output_type": "stream",
          "name": "stderr",
          "text": [
            "<ipython-input-15-2d0f9bcf2da8>:16: SettingWithCopyWarning: \n",
            "A value is trying to be set on a copy of a slice from a DataFrame\n",
            "\n",
            "See the caveats in the documentation: https://pandas.pydata.org/pandas-docs/stable/user_guide/indexing.html#returning-a-view-versus-a-copy\n",
            "  y.iloc[index] = correct_label  # Update the label with user input\n"
          ]
        },
        {
          "name": "stdout",
          "output_type": "stream",
          "text": [
            "Data: FIT 101       -0.463164\n",
            "LIT 101        0.743159\n",
            "MV 101        -0.417491\n",
            "P1_STATE      -0.212852\n",
            "P101 Status   -0.730783\n",
            "                 ...   \n",
            "P6 STATE       0.000000\n",
            "P601 Status   -0.127416\n",
            "P602 Status    0.000000\n",
            "P603 Status    0.000000\n",
            "weak_label     1.000000\n",
            "Name: 2019-07-20 15:53:12, Length: 78, dtype: float64\n",
            "Enter the correct label (0 or 1): 1\n"
          ]
        },
        {
          "output_type": "stream",
          "name": "stderr",
          "text": [
            "<ipython-input-15-2d0f9bcf2da8>:16: SettingWithCopyWarning: \n",
            "A value is trying to be set on a copy of a slice from a DataFrame\n",
            "\n",
            "See the caveats in the documentation: https://pandas.pydata.org/pandas-docs/stable/user_guide/indexing.html#returning-a-view-versus-a-copy\n",
            "  y.iloc[index] = correct_label  # Update the label with user input\n",
            "/usr/local/lib/python3.10/dist-packages/sklearn/base.py:439: UserWarning: X does not have valid feature names, but IsolationForest was fitted with feature names\n",
            "  warnings.warn(\n"
          ]
        },
        {
          "output_type": "stream",
          "name": "stdout",
          "text": [
            "Updated Model Evaluation:\n",
            "Accuracy: 0.9118566367993332\n",
            "F1 Score: 0.5366922234392113\n",
            "Precision: 1.0\n",
            "Recall: 0.36676646706586824\n",
            "Confusion Matrix:\n",
            "[[12393     0]\n",
            " [ 1269   735]]\n"
          ]
        }
      ]
    }
  ]
}